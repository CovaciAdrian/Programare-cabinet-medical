{
 "cells": [
  {
   "cell_type": "markdown",
   "id": "467abdeb-1f01-4646-9473-ed34a590d804",
   "metadata": {},
   "source": [
    "# Exemple de exerciții \n",
    "\n",
    "În acest laborator vom efectua o serie de exerciții pentru fundamentarea cunoștințelor de programare în limbajul Python și pregătirea examenului parțial.\n",
    "\n",
    "Exercițiile se vor rezolva independent și rezolvarea finală va fi disponibilă în notebook."
   ]
  },
  {
   "cell_type": "markdown",
   "id": "1cf21d7b-6018-4fc6-8ece-24e8bd98fb86",
   "metadata": {},
   "source": [
    "## Exercițiul 1\n",
    "Scrieți un script care să solicite introducerea de la tastatură a două numere, unul real **x** și un întreg **n** acesta din urmă fiind cuprins în intervalul (3,12).\n",
    "Calculați suma folosind numerele de mai sus:\n",
    "\n",
    "$$ \\sum_{k=0}^n \\frac{(-1)^k x^{2^k}}{2k!} $$"
   ]
  },
  {
   "cell_type": "markdown",
   "id": "f7ea0b00-9745-4fd6-b064-34e120358af0",
   "metadata": {},
   "source": [
    "## Exercițiul 2\n",
    "Scrieți un script care să preia de la tastatură un număr real **m** și un număr întreg **n**. Dacă m este inclus în intervalul $ [1.5 , 3.75] $ și $ n \\ge 2 $ calculați termenii seriei:\n",
    "\n",
    "$$ P(k,m) = \\frac{e^{-m}*m^k}{k!} $$\n",
    "și calculați suma lor \n",
    "\n",
    "$$ \\sum_{k=0}^n P(k,m) $$"
   ]
  },
  {
   "cell_type": "markdown",
   "id": "2a4ca925-1fde-4524-91ab-76a90155d845",
   "metadata": {},
   "source": [
    "## Exercițiul 3\n",
    "\n",
    "Scrieți un script care să preia de la tastatură 3 tupluri de câte 2 numere reale. Aceste tupluri vor fi convertite în 3 numere complexe X,Y respectiv Z. Să se calculeze și să se afișeze unghiurile în **grade** dintre X și Y, X și Z respectiv Y și Z.\n",
    "\n",
    "### Indicație \n",
    "Folosiți link-ul pentru detalii despre funcțiile matematice pentru numere complexe.\n",
    "https://docs.python.org/3/library/cmath.html"
   ]
  },
  {
   "cell_type": "code",
   "execution_count": 61,
   "id": "60176d9c-3d30-4208-a799-0a2150e2aa0e",
   "metadata": {},
   "outputs": [
    {
     "name": "stdin",
     "output_type": "stream",
     "text": [
      "Introduce-ti tuplul 1.2, 2.3\n",
      "Introduce-ti tuplul 1 1\n",
      "Introduce-ti tuplul 2 2\n"
     ]
    },
    {
     "name": "stdout",
     "output_type": "stream",
     "text": [
      "Unghiul dintre X si Y este 17.4472 grade\n",
      "Unghiul dintre X si Z este 17.4472 grade\n",
      "Unghiul dintre Y si Z este 0.0000 grade\n"
     ]
    }
   ],
   "source": [
    "from cmath import phase\n",
    "import numpy as np\n",
    "\n",
    "def getTuple():\n",
    "    lst = []\n",
    "    while True:\n",
    "        try:\n",
    "            tmp = input(\"Introduce-ti tuplul\")\n",
    "            if \",\" in tmp:\n",
    "                vals = tmp.split(\",\")\n",
    "            else:\n",
    "                vals = tmp.split(\" \")\n",
    "            if len(vals) > 2:\n",
    "                print(\"Trebuie sa introduceti doua numere in fiecare tuplu\")\n",
    "            else:\n",
    "                for i in vals:\n",
    "                    lst.append(float(i))\n",
    "                return tuple(lst)\n",
    "        except Exception as e:\n",
    "            print(\"Tuplul Dvs. trebuie sa contina numere reale\")\n",
    "            print(e)\n",
    "\n",
    "def getComplexNo(tmp):\n",
    "    return complex(tmp[0], tmp[1])\n",
    "\n",
    "X = getComplexNo(getTuple())\n",
    "Y = getComplexNo(getTuple())\n",
    "Z = getComplexNo(getTuple())\n",
    "\n",
    "pX = phase(X)\n",
    "pY = phase(Y)\n",
    "pZ = phase(Z)\n",
    "\n",
    "dpX = np.degrees(pX)\n",
    "dpY = np.degrees(pY)\n",
    "dpZ = np.degrees(pZ)\n",
    "\n",
    "print(\"Unghiul dintre X si Y este %.4f grade\" % np.degrees(pX-pY))\n",
    "print(\"Unghiul dintre X si Z este %.4f grade\" % np.degrees(pX-pZ))\n",
    "print(\"Unghiul dintre Y si Z este %.4f grade\" % np.degrees(pY-pZ))\n"
   ]
  },
  {
   "cell_type": "markdown",
   "id": "c20c7187-c428-4ba4-b816-99db9a6d2699",
   "metadata": {},
   "source": [
    "## Exercițiul 4\n",
    "Scrieți un script care să preia de la tastatură un număr real z unde $ |z| < 1 $ și un număr întreg n. Verificați ca n să fie cuprins în intervalul \\[5,15\\] și implementați o funcție care să calculeze:\n",
    "$$ \\sum_{k=0}^n \\frac{(2k)!*z^k}{2^{4k}*\\sqrt 2 * (2k)!*(2k+1)!} $$\n",
    "Verificați rezultatul obținut cu cel furnizat de funcția:\n",
    "$$ \\sqrt {\\frac{1-\\sqrt{1-z}}{z}} $$"
   ]
  },
  {
   "cell_type": "markdown",
   "id": "1593d9ee-577d-4976-8387-dad5da0a5f00",
   "metadata": {},
   "source": [
    "## Exercițiul 5\n",
    "\n",
    "Fie sirul definit prin relația de recurență $ a_n = atan(-3*a_{n-1}+10) $. Scrieți o secvență de cod care să preia de la tastatură termenul $ a_0 $ și verificați dacă numărul real este cuprins între 0 și π/2. Estimați limita acestui sir folosind pentru testul de atingere a limitei expresia\n",
    "\n",
    "$ |a_n − a_{n−1}| < ε $\n",
    "\n",
    "unde\n",
    "\n",
    "$ ε = 10^{−7} $. Acesta din urmă poate fi scris atât în notația inginerească 1E-7 fie în notația standard, 0.0000001.\n",
    "\n",
    "Afișați limita estimată și numărul iterației - n - atins în acel moment. Trasați grafic valorile obținute funcție de numărul de iterații.\n"
   ]
  },
  {
   "cell_type": "code",
   "execution_count": 6,
   "id": "78753375-6d10-4d0b-945c-c0ee202281fd",
   "metadata": {},
   "outputs": [
    {
     "name": "stdin",
     "output_type": "stream",
     "text": [
      "a0: 1.1\n"
     ]
    },
    {
     "name": "stdout",
     "output_type": "stream",
     "text": [
      "Limita sirului este 1.4000562538 cu o precizie de 0.0000001000 dupa 7 iteratii\n"
     ]
    },
    {
     "data": {
      "image/png": "[encoded data removed]",
      "text/plain": [
       "<Figure size 432x288 with 1 Axes>"
      ]
     },
     "metadata": {
      "needs_background": "light"
     },
     "output_type": "display_data"
    }
   ],
   "source": [
    "from math import atan, pi\n",
    "from matplotlib import pyplot as plt\n",
    "\n",
    "def myFn(an):\n",
    "    return atan(-3*an+10)\n",
    "\n",
    "def getA0():\n",
    "    while True:\n",
    "        try:\n",
    "            a0 = float(input(\"a0:\"))\n",
    "            if a0 > 0 and a0 < pi/2:\n",
    "                return a0\n",
    "            print(\"Numarul introdus trebuie sa fie cuprins in intervalul (0,pi/2)\")\n",
    "        except Exception as e:\n",
    "            print(\"Valoarea introdusa trebuie sa fie reala\")\n",
    "\n",
    "e = 1E-7\n",
    "values = []\n",
    "\n",
    "values.append(getA0())\n",
    "while abs(myFn(values[-1])-values[-1]) > e:\n",
    "       values.append(myFn(values[-1]))\n",
    "print(\"Limita sirului este %.10f cu o precizie de %.10f dupa %i iteratii\" % (values[-1], e, len(values)-1))\n",
    "\n",
    "plt.figure()\n",
    "plt.title(\"Analiza limitei sirului cu precizia %.8f\" % e)\n",
    "plt.xlabel(\"Numarul iteratiei\")\n",
    "plt.ylabel(\"Valoarea functiei\")\n",
    "plt.plot(range(len(values)), values)\n",
    "plt.show()\n"
   ]
  },
  {
   "cell_type": "markdown",
   "id": "c9554592-a712-47ed-a272-b0ce5c83e995",
   "metadata": {},
   "source": [
    "## Exercițiul 6\n",
    "\n",
    "Folosind formula pentru estimarea numarului e\n",
    "$$ e = 3 + \\sum_{k=2}^\\inf \\frac{-1}{k!(k-1)k}$$\n",
    "\n",
    "creati un script care sa permita estimarea numarului e folosind aceasta formula si care sa foloseasca\n",
    "testul de atingere a limitei folosind expresia\n",
    "\n",
    "$$|math.e − e| < ε    (1) $$\n",
    "\n",
    ", unde\n",
    "\n",
    "$$ε = 10^{−6}$$\n",
    "\n",
    "Afișați numărul de iterații pentru care criteriul de convergență (1) este atins."
   ]
  },
  {
   "cell_type": "code",
   "execution_count": 27,
   "id": "4c6556a9-8511-4b17-b283-47e970f5e549",
   "metadata": {},
   "outputs": [
    {
     "name": "stdout",
     "output_type": "stream",
     "text": [
      "3 3\n",
      "4 2.75\n",
      "5 2.7222222222222223\n",
      "6 2.71875\n",
      "7 2.7183333333333333\n",
      "8 2.718287037037037\n",
      "9 2.71828231292517\n",
      "Am obtinut valoarea lui e 2.71828231292517 cu o abatere de 0.00000100000000 fata de valoarea nominala 2.71828182845905 dupa 8 iteratii\n"
     ]
    }
   ],
   "source": [
    "from math import e, factorial\n",
    "err = 1E-6\n",
    "mye = 0\n",
    "k = 2\n",
    "\n",
    "while abs(e-mye) > err:\n",
    "    tmp = 0\n",
    "    for i in range(2,k):\n",
    "        tmp += (-1)/(factorial(i)*(i-1)*i)\n",
    "    mye = 3+tmp\n",
    "    k += 1\n",
    "    print(k, mye)\n",
    "print(\"Am obtinut valoarea lui e %.14f cu o abatere de %.14f fata de valoarea nominala %.14f dupa %i iteratii\" % (mye, err, e, k-1))\n"
   ]
  },
  {
   "cell_type": "markdown",
   "id": "3109ff40-ee13-48d6-b9d9-95d40ebc2170",
   "metadata": {},
   "source": [
    "## Exercițiul 7\n",
    "Folosind formula\n",
    "\n",
    "$$ \\pi = \\sqrt{12}*\\sum_{k=0}^\\inf \\frac{(-3)^{-k}}{2k+1} $$\n",
    "\n",
    "creati un script care sa permita estimarea numarului π folosind formula de mai sus si care sa\n",
    "foloseasca testul de atingere a limitei\n",
    "\n",
    "$ |pi − math.pi| < 10^{−6} $\n",
    "\n",
    "Afișați numărul de iterații pentru care criteriul de convergență de mai sus este atins."
   ]
  },
  {
   "cell_type": "markdown",
   "id": "d73bb9c5-e767-4731-9d61-66f7e18cec85",
   "metadata": {},
   "source": [
    "## Exercițiul 8\n",
    "\n",
    "\n",
    "Scrieti un script care sa preia de la tastatura un numar real $ m > 0 $ si un numar intreg n. Verificati daca m este cuprins in intervalul (0.7, 3.5) si $ n >= 4 $. Calculati expresia:\n",
    "\n",
    "$$ \\frac{log_8 m}{(n-2)!^{n^{m-1}}} $$\n",
    "\n",
    "### Indicație\n",
    "Folosind **help(math.log)** observați că al 2-lea argument este baza logaritmului."
   ]
  },
  {
   "cell_type": "code",
   "execution_count": 1,
   "id": "0706e8a6-f370-440d-b616-7c57ee3bbb1a",
   "metadata": {},
   "outputs": [
    {
     "name": "stdout",
     "output_type": "stream",
     "text": [
      "Help on built-in function log in module math:\n",
      "\n",
      "log(...)\n",
      "    log(x, [base=math.e])\n",
      "    Return the logarithm of x to the given base.\n",
      "    \n",
      "    If the base not specified, returns the natural logarithm (base e) of x.\n",
      "\n"
     ]
    }
   ],
   "source": [
    "import math\n",
    "help(math.log)"
   ]
  },
  {
   "cell_type": "markdown",
   "id": "9d3e3874-0617-4d78-95de-3fb03f473727",
   "metadata": {},
   "source": [
    "## Exercițiul 9\n",
    "Scrieti un script care sa citeasca de la tastatura un numar real e care trebuie sa fie cuprins in\n",
    "intervalul $ (0, 10^{−2}) $. Estimati radacinile functiei\n",
    "\n",
    "$$ f(x) = atan(x) + x − 1 $$\n",
    "\n",
    "in intervalul $x ∈ [0, 5]$ folosind testul de apropiere de radacina conditia $ |f(x)| < e $.\n",
    "\n",
    "Afisati la consola numarul de pasi necesari pentru a atinge aceste aproximatii.\n",
    "\n",
    "### Indicație\n",
    "Este recomandată folosirea metodei de înjumătățire a intervalului (puteți binențeles pentru a asigura o convergență mai rapidă să folosiți și metoda coardei) prin definirea unei funcții ce identifică intervalul în care este amplasată rădăcina. \n",
    "\n",
    "```\n",
    "F(a)*F(b) < 0\n",
    "```"
   ]
  },
  {
   "cell_type": "code",
   "execution_count": 64,
   "id": "aae76eb3-cdcc-4a90-a5b0-c17cb482f569",
   "metadata": {},
   "outputs": [
    {
     "name": "stdin",
     "output_type": "stream",
     "text": [
      "Introduceti precizie permisa 0.000000001\n"
     ]
    },
    {
     "name": "stdout",
     "output_type": "stream",
     "text": [
      "Radacina noastra a fost estimata la 0.52026899269549 cu o precizie de 0.00000000100000\n"
     ]
    }
   ],
   "source": [
    "from math import atan\n",
    "\n",
    "def myFn(x):\n",
    "    return atan(x) + x - 1\n",
    "\n",
    "def hasRoot(a,b):\n",
    "    return myFn(a)*myFn(b) < 0\n",
    "\n",
    "def getEps():\n",
    "    while True:\n",
    "        try:\n",
    "            eps = float(input(\"Introduceti precizie permisa\"))\n",
    "            if eps > 0 and eps < 0.01:\n",
    "                return eps\n",
    "            print(\"Precizia trebuie sa fie cuprinsa in intervalul (0,0.01)\")\n",
    "        except Exception as e:\n",
    "            print(\"Precizia trebuie sa fie un numar real\")\n",
    "            print(e)\n",
    "\n",
    "a = 0\n",
    "b = 5\n",
    "\n",
    "eps = getEps()\n",
    "\n",
    "if not hasRoot(a,b):\n",
    "    print(\"In intervalul nostru nu avem o radacina\")\n",
    "else:\n",
    "    while abs(a-b) > eps:\n",
    "        c = (a+b)/2\n",
    "        if hasRoot(a, c):\n",
    "            b = c\n",
    "        else:\n",
    "            a = c\n",
    "    rad = (a+b)/2\n",
    "    print(\"Radacina noastra a fost estimata la %.14f cu o precizie de %.14f\" % (rad, eps))"
   ]
  },
  {
   "cell_type": "markdown",
   "id": "32bcd780-846d-4f97-a2b5-7c7f64b86d36",
   "metadata": {},
   "source": [
    "## Exercițiul 10\n",
    "\n",
    "Scriteti un script care sa citeasca un fisier text ce contine 2 coloane despartite cu spatiu si contin\n",
    "cate un numar real in fiecare coloana. Pentru fiecare linie din fisierul respectiv se va afisa numarul\n",
    "complex z cu $ Re(z) = a $ si $ Im(z)=b $. Stiind ca numarul $ c = 1-1j$ verificati conditia ca $ | c-z\n",
    "| <= 3 $.\n",
    "\n",
    "### Indicație \n",
    "Folosiți link-ul pentru detalii despre funcțiile matematice pentru numere complexe.\n",
    "https://docs.python.org/3/library/cmath.html"
   ]
  },
  {
   "cell_type": "code",
   "execution_count": 54,
   "id": "8b51c39a-013c-475b-893d-ff7dfea92095",
   "metadata": {},
   "outputs": [],
   "source": [
    "# Pentru a genera fisierul de date folosiți acest cod:\n",
    "from random import uniform as rand\n",
    "with open(\"test.dat\", \"w\") as f:\n",
    "    for i in range(1000):\n",
    "        f.write(\"%f %f\\n\" % (rand(1,9), rand(1,4))) "
   ]
  },
  {
   "cell_type": "code",
   "execution_count": 55,
   "id": "872ff6e0-294c-42db-a3e1-cd8c9127c016",
   "metadata": {},
   "outputs": [
    {
     "name": "stdout",
     "output_type": "stream",
     "text": [
      "(1.269316+1.437764j)\n",
      "(2.27049+1.097486j)\n",
      "(2.249867+1.145174j)\n",
      "(2.802596+1.132229j)\n",
      "(2.826999+1.260923j)\n",
      "(2.747286+1.3j)\n",
      "(2.426878+1.111204j)\n",
      "(2.188251+1.748815j)\n",
      "(2.614454+1.214132j)\n",
      "(1.479438+1.115667j)\n",
      "(1.976442+1.128185j)\n",
      "(1.091564+1.724992j)\n",
      "(1.161934+1.108906j)\n",
      "(2.235468+1.140867j)\n",
      "(2.274054+1.155678j)\n",
      "(2.175346+1.163275j)\n",
      "(1.331053+1.969274j)\n",
      "(2.68462+1.278901j)\n",
      "(1.225479+1.847354j)\n",
      "(1.344928+1.516138j)\n",
      "(2.292669+1.153722j)\n",
      "(1.165204+1.330002j)\n",
      "(2.27845+1.183459j)\n",
      "(2.173933+1.109737j)\n",
      "(1.618782+1.357826j)\n",
      "(2.82875+1.245425j)\n",
      "(1.780815+1.323342j)\n",
      "(2.594228+1.354037j)\n",
      "(2.440486+1.088188j)\n",
      "(1.984014+1.450152j)\n",
      "(1.385852+1.485492j)\n",
      "(2.447768+1.490884j)\n",
      "(1.478217+1.316579j)\n",
      "(1.075377+1.611246j)\n",
      "(2.022341+1.273981j)\n",
      "(1.169396+1.412826j)\n",
      "(2.258797+1.120851j)\n",
      "(1.676972+1.248089j)\n",
      "(2.95103+1.008179j)\n",
      "(1.885964+1.537198j)\n",
      "(1.279372+1.886851j)\n",
      "(2.258532+1.39384j)\n",
      "(1.939528+1.292835j)\n",
      "(1.089106+1.641418j)\n",
      "(1.981301+1.424867j)\n",
      "(1.685147+1.534882j)\n",
      "(2.246389+1.489704j)\n",
      "(1.776476+1.573994j)\n",
      "(1.298149+1.898003j)\n",
      "(1.328847+1.064348j)\n",
      "(1.217023+1.083567j)\n",
      "(1.007915+1.226514j)\n",
      "(1.350652+1.905878j)\n",
      "(1.062121+1.580759j)\n",
      "(1.775224+1.641858j)\n",
      "(2.379259+1.17694j)\n",
      "(1.167005+1.869233j)\n",
      "(1.167996+1.293747j)\n",
      "(1.293517+1.064745j)\n",
      "(1.594666+1.546506j)\n",
      "(2.319086+1.218478j)\n",
      "(2.584992+1.316182j)\n",
      "(1.578104+1.236536j)\n",
      "(2.405923+1.261609j)\n",
      "(1.73853+1.244632j)\n",
      "(2.035301+1.412207j)\n",
      "(1.75609+1.521212j)\n",
      "(2.232274+1.117698j)\n"
     ]
    }
   ],
   "source": [
    "from math import sqrt\n",
    "c = complex(1,-1)\n",
    "def getMagnitude(c):\n",
    "    return sqrt(c.real**2+c.imag**2)\n",
    "\n",
    "with open(\"test.dat\", \"r\") as f:\n",
    "    for line in f.readlines():\n",
    "        sp = line.split(\" \")\n",
    "        pr = sp[0]\n",
    "        pi = sp[1]\n",
    "        z = complex(float(sp[0]), float(sp[1]))\n",
    "        tmp = c-z\n",
    "        if getMagnitude(tmp) <= 3:\n",
    "            print(z)"
   ]
  },
  {
   "cell_type": "markdown",
   "id": "ca39bdad-bac6-44cb-8f32-47c090c6603a",
   "metadata": {},
   "source": [
    "## Indicație Generală\n",
    "\n",
    "Pentru rezolvările ce folosesc Jupyter Notebook se va implementa câte un script în fiecare celulă permitând astfel vizualizarea întregului cod. În cazul în care sunt folosite variabile comune între celule diferite atunci este obligatorie resetarea valorii pentru acestea în fiecare celulă astfel încât rularea unei probleme să nu interfereze cu rularea celulelor următoare."
   ]
  }
 ],
 "metadata": {
  "kernelspec": {
   "display_name": "Python 3 (ipykernel)",
   "language": "python",
   "name": "python3"
  },
  "language_info": {
   "codemirror_mode": {
    "name": "ipython",
    "version": 3
   },
   "file_extension": ".py",
   "mimetype": "text/x-python",
   "name": "python",
   "nbconvert_exporter": "python",
   "pygments_lexer": "ipython3",
   "version": "3.9.7"
  }
 },
 "nbformat": 4,
 "nbformat_minor": 5
}
